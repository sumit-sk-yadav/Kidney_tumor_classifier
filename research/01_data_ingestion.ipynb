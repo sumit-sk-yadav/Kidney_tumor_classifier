{
 "cells": [
  {
   "cell_type": "code",
   "execution_count": 36,
   "metadata": {},
   "outputs": [],
   "source": [
    "import os"
   ]
  },
  {
   "cell_type": "code",
   "execution_count": 37,
   "metadata": {},
   "outputs": [
    {
     "data": {
      "text/plain": [
       "'d:\\\\Machine learning projects\\\\kidney_disease_classifier_tut'"
      ]
     },
     "execution_count": 37,
     "metadata": {},
     "output_type": "execute_result"
    }
   ],
   "source": [
    "%pwd"
   ]
  },
  {
   "cell_type": "code",
   "execution_count": 38,
   "metadata": {},
   "outputs": [
    {
     "name": "stdout",
     "output_type": "stream",
     "text": [
      "d:\\Machine learning projects\\kidney_disease_classifier_tut\n"
     ]
    }
   ],
   "source": [
    "os.chdir(r'd:\\Machine learning projects\\kidney_disease_classifier_tut')\n",
    "print(os.getcwd())  # This should now print the root folder of your project"
   ]
  },
  {
   "cell_type": "code",
   "execution_count": 39,
   "metadata": {},
   "outputs": [],
   "source": [
    "from dataclasses import dataclass\n",
    "from pathlib import Path\n",
    "\n",
    "#defining the kind of data that can be stored for the data ingestion config class where changing or adding anythign later would throw an error as the varaibels are frozen\n",
    "@dataclass(frozen=True) \n",
    "class DataIngestionConfig:\n",
    "    root_dir: Path\n",
    "    source_URL: str\n",
    "    local_data_file: Path\n",
    "    unzip_dir: Path"
   ]
  },
  {
   "cell_type": "code",
   "execution_count": 40,
   "metadata": {},
   "outputs": [],
   "source": [
    "from cnnClassifier.constants import CONFIG_FILE_PATH,PARAMS_FILE_PATH\n",
    "from cnnClassifier.utils.common import read_yaml, create_directories"
   ]
  },
  {
   "cell_type": "code",
   "execution_count": 41,
   "metadata": {},
   "outputs": [
    {
     "name": "stdout",
     "output_type": "stream",
     "text": [
      "d:\\Machine learning projects\\kidney_disease_classifier_tut\n"
     ]
    }
   ],
   "source": [
    "import os\n",
    "print(os.getcwd())\n"
   ]
  },
  {
   "cell_type": "code",
   "execution_count": 42,
   "metadata": {},
   "outputs": [],
   "source": [
    "class ConfigurationManager:\n",
    "    def __init__(\n",
    "            self,\n",
    "            config_filepath = CONFIG_FILE_PATH,# access the config.yaml file and the params.yaml file from their paths and store them\n",
    "            params_filepath = PARAMS_FILE_PATH):\n",
    "\n",
    "            self.config = read_yaml(config_filepath)# read the yaml files using the custorm read_yaml function\n",
    "            self.params = read_yaml(params_filepath)# the function returns a configBox datatype \n",
    "\n",
    "            create_directories([self.config.artifacts_root]) # creates a directory called artifacts root as stated in the config.yaml file\n",
    "\n",
    "    def get_data_ingestion_config(self) -> DataIngestionConfig:\n",
    "        config = self.config.data_ingestion # using the configBox accessing method we can access the data_ingestion key inside the config file\n",
    "\n",
    "        create_directories([config.root_dir]) # create a the root directory as mentioned in the config file\n",
    "\n",
    "        data_ingestion_config = DataIngestionConfig( # use the previously created frozen entity for managing the data ingestion variables\n",
    "            root_dir = config.root_dir,# access the information stored int he config  file and read it into respective  variables one by one\n",
    "            source_URL = config.source_URL,\n",
    "            local_data_file = config.local_data_file,\n",
    "            unzip_dir = config.unzip_dir\n",
    "        )\n",
    "        \n",
    "        return data_ingestion_config # return the data ingestion information as defined by the dataingestionconfig class created earlier"
   ]
  },
  {
   "cell_type": "code",
   "execution_count": 43,
   "metadata": {},
   "outputs": [],
   "source": [
    "import zipfile\n",
    "import gdown\n",
    "from cnnClassifier import logger\n",
    "from cnnClassifier.utils.common import get_size"
   ]
  },
  {
   "cell_type": "code",
   "execution_count": 44,
   "metadata": {},
   "outputs": [],
   "source": [
    "class DataIngestion:\n",
    "    def __init__(self, config: DataIngestionConfig):\n",
    "        self.config = config\n",
    "\n",
    "    def download_file(self) -> str:\n",
    "        try:\n",
    "            dataset_URL = self.config.source_URL\n",
    "            zip_download_dir = self.config.local_data_file\n",
    "            os.makedirs(\"artifacts/data_ingestion\", exist_ok=True)\n",
    "            logger.info(f' Downloading data from {dataset_URL} into {zip_download_dir}')\n",
    "\n",
    "            file_id = dataset_URL.split(\"/\")[-2]\n",
    "            prefix = 'https://drive.google.com/uc?/export=download&id='\n",
    "            gdown.download(prefix+file_id,zip_download_dir)\n",
    "            logger.info(f'Data from {dataset_URL} downloaded successfully into {zip_download_dir}')\n",
    "        except Exception as e:\n",
    "            raise e\n",
    "        \n",
    "    def extract_zip_file(self):\n",
    "        unzip_path = self.config.unzip_dir\n",
    "        os.makedirs(unzip_path,exist_ok=True)\n",
    "        with zipfile.ZipFile(self.config.local_data_file, 'r') as zip_ref:\n",
    "            zip_ref.extractall(unzip_path)\n",
    "        "
   ]
  },
  {
   "cell_type": "code",
   "execution_count": 45,
   "metadata": {},
   "outputs": [
    {
     "name": "stdout",
     "output_type": "stream",
     "text": [
      "[2025-03-11 18:28:02,070 : INFO : common : yaml file : config\\config.yaml loaded successfully]\n",
      "[2025-03-11 18:28:02,071 : INFO : common : yaml file : params.yaml loaded successfully]\n",
      "[2025-03-11 18:28:02,072 : INFO : common : created directory at: artifacts]\n",
      "[2025-03-11 18:28:02,073 : INFO : common : created directory at: artifacts/data_ingestion]\n",
      "[2025-03-11 18:28:02,074 : INFO : 3676027333 :  Downloading data from https://drive.google.com/file/d/15QjiJBAVfpVMwEqW2dBw3kqfCbPF5BLu/view?usp=sharing into artifacts/data_ingestion/data.zip]\n"
     ]
    },
    {
     "name": "stderr",
     "output_type": "stream",
     "text": [
      "Downloading...\n",
      "From (original): https://drive.google.com/uc?/export=download&id=15QjiJBAVfpVMwEqW2dBw3kqfCbPF5BLu\n",
      "From (redirected): https://drive.google.com/uc?%2Fexport=download&id=15QjiJBAVfpVMwEqW2dBw3kqfCbPF5BLu&confirm=t&uuid=bdac9d5c-fdc2-4a82-8a63-763251072999\n",
      "To: d:\\Machine learning projects\\kidney_disease_classifier_tut\\artifacts\\data_ingestion\\data.zip\n",
      "100%|██████████| 61.0M/61.0M [00:05<00:00, 12.1MB/s]\n"
     ]
    },
    {
     "name": "stdout",
     "output_type": "stream",
     "text": [
      "[2025-03-11 18:28:11,966 : INFO : 3676027333 : Data from https://drive.google.com/file/d/15QjiJBAVfpVMwEqW2dBw3kqfCbPF5BLu/view?usp=sharing downloaded successfully into artifacts/data_ingestion/data.zip]\n"
     ]
    }
   ],
   "source": [
    "try:\n",
    "    config = ConfigurationManager()\n",
    "    data_ingestion_config = config.get_data_ingestion_config()\n",
    "    data_ingestion = DataIngestion(config = data_ingestion_config)\n",
    "    data_ingestion.download_file()\n",
    "    data_ingestion.extract_zip_file()\n",
    "except Exception as e:\n",
    "    raise e"
   ]
  }
 ],
 "metadata": {
  "kernelspec": {
   "display_name": "kidney",
   "language": "python",
   "name": "python3"
  },
  "language_info": {
   "codemirror_mode": {
    "name": "ipython",
    "version": 3
   },
   "file_extension": ".py",
   "mimetype": "text/x-python",
   "name": "python",
   "nbconvert_exporter": "python",
   "pygments_lexer": "ipython3",
   "version": "3.11.0"
  }
 },
 "nbformat": 4,
 "nbformat_minor": 2
}
