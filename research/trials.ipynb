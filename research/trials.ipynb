{
 "cells": [
  {
   "cell_type": "code",
   "execution_count": 1,
   "metadata": {},
   "outputs": [],
   "source": [
    "# dowloading data from Gdrive\n",
    "import gdown"
   ]
  },
  {
   "cell_type": "code",
   "execution_count": 10,
   "metadata": {},
   "outputs": [],
   "source": [
    "url = 'https://drive.google.com/file/d/15QjiJBAVfpVMwEqW2dBw3kqfCbPF5BLu/view?usp=sharing'"
   ]
  },
  {
   "cell_type": "code",
   "execution_count": 11,
   "metadata": {},
   "outputs": [
    {
     "data": {
      "text/plain": [
       "'15QjiJBAVfpVMwEqW2dBw3kqfCbPF5BLu'"
      ]
     },
     "execution_count": 11,
     "metadata": {},
     "output_type": "execute_result"
    }
   ],
   "source": [
    "file_id = url.split(\"/\")[-2]\n",
    "file_id"
   ]
  },
  {
   "cell_type": "code",
   "execution_count": 12,
   "metadata": {},
   "outputs": [],
   "source": [
    "prefix = 'https://drive.google.com/uc?/export=download&id='"
   ]
  },
  {
   "cell_type": "code",
   "execution_count": null,
   "metadata": {},
   "outputs": [
    {
     "name": "stderr",
     "output_type": "stream",
     "text": [
      "Downloading...\n",
      "From (original): https://drive.google.com/uc?/export=download&id=15QjiJBAVfpVMwEqW2dBw3kqfCbPF5BLu\n",
      "From (redirected): https://drive.google.com/uc?%2Fexport=download&id=15QjiJBAVfpVMwEqW2dBw3kqfCbPF5BLu&confirm=t&uuid=d02f42cb-05eb-44f9-a068-db9ceecd4e58\n",
      "To: d:\\Machine learning projects\\kidney_disease_classifier_tut\\research\\kidney_CT_scan_data\n",
      "100%|██████████| 61.0M/61.0M [00:04<00:00, 12.4MB/s]\n"
     ]
    },
    {
     "data": {
      "text/plain": [
       "'kidney_CT_scan_data'"
      ]
     },
     "execution_count": 13,
     "metadata": {},
     "output_type": "execute_result"
    }
   ],
   "source": [
    "gdown.download(prefix+file_id,'kidney_CT_scan_data.zip')"
   ]
  },
  {
   "cell_type": "markdown",
   "metadata": {},
   "source": []
  }
 ],
 "metadata": {
  "kernelspec": {
   "display_name": "kidney",
   "language": "python",
   "name": "python3"
  },
  "language_info": {
   "codemirror_mode": {
    "name": "ipython",
    "version": 3
   },
   "file_extension": ".py",
   "mimetype": "text/x-python",
   "name": "python",
   "nbconvert_exporter": "python",
   "pygments_lexer": "ipython3",
   "version": "3.11.0"
  }
 },
 "nbformat": 4,
 "nbformat_minor": 2
}
